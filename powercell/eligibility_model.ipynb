{
 "cells": [
  {
   "cell_type": "code",
   "execution_count": 62,
   "metadata": {},
   "outputs": [
    {
     "data": {
      "image/png": "[encoded data removed]",
      "text/plain": [
       "<Figure size 432x288 with 2 Axes>"
      ]
     },
     "metadata": {
      "needs_background": "light"
     },
     "output_type": "display_data"
    }
   ],
   "source": [
    "#logisic regression\n",
    "import matplotlib.pyplot as plt\n",
    "import pandas as pd\n",
    "import numpy as np\n",
    "from sklearn.cluster import KMeans\n",
    "from sklearn.preprocessing import StandardScaler\n",
    "\n",
    "\n",
    "\n",
    "app = pd.read_csv('data_sets/applicants.csv')\n",
    "ins = app[\"account_id\"].dtype\n",
    "\n",
    "feature_cols = ['is_family_friendly', 'session_count','level','risk']\n",
    "X = app[feature_cols] # Features\n",
    "y = app.response # Target variable\n",
    "\n",
    "# split X and y into training and testing sets\n",
    "from sklearn.model_selection import train_test_split\n",
    "\n",
    "X_train, X_test, y_train, y_test = train_test_split(X, y, test_size=0.3, random_state=16)\n",
    "\n",
    "\n",
    "\n",
    "#modelling\n",
    "\n",
    "from sklearn.linear_model import LogisticRegression\n",
    "from sklearn.metrics import confusion_matrix, ConfusionMatrixDisplay\n",
    "\n",
    "# instantiate the model (using the default parameters)\n",
    "logreg = LogisticRegression(random_state=16)\n",
    "\n",
    "# fit the model with data\n",
    "logreg.fit(X_train, y_train)\n",
    "\n",
    "y_pred = logreg.predict(X_test)\n",
    "\n",
    "\n",
    "# import the metrics class\n",
    "from sklearn import metrics\n",
    "\n",
    "cnf_matrix = metrics.confusion_matrix(y_test, y_pred)\n",
    "\n",
    "disp = ConfusionMatrixDisplay(cnf_matrix)\n",
    "disp.plot()\n",
    "\n",
    "plt.show()"
   ]
  },
  {
   "cell_type": "code",
   "execution_count": 63,
   "metadata": {},
   "outputs": [
    {
     "name": "stdout",
     "output_type": "stream",
     "text": [
      "              precision    recall  f1-score   support\n",
      "\n",
      "    Eligible       0.79      0.93      0.86     53993\n",
      "    Rejected       0.44      0.18      0.25     16061\n",
      "\n",
      "    accuracy                           0.76     70054\n",
      "   macro avg       0.62      0.56      0.56     70054\n",
      "weighted avg       0.71      0.76      0.72     70054\n",
      "\n"
     ]
    }
   ],
   "source": [
    "from sklearn.metrics import classification_report\n",
    "target_names = ['Eligible', 'Rejected']\n",
    "print(classification_report(y_test, y_pred, target_names=target_names))"
   ]
  },
  {
   "cell_type": "code",
   "execution_count": 64,
   "metadata": {},
   "outputs": [
    {
     "name": "stdout",
     "output_type": "stream",
     "text": [
      "eligible\n"
     ]
    }
   ],
   "source": [
    "x_new = pd.DataFrame(\n",
    "    {'is_family_friendly': [1],\n",
    "        'session_count': [400], 'level': [40], 'risk': [2.3]}\n",
    ")\n",
    "\n",
    "new_pred = logreg.predict(x_new)\n",
    "new_pred_labels = np.argmax(new_pred, axis=0)\n",
    "\n",
    "import numpy as np\n",
    "\n",
    "# Define a dictionary that maps numbers to words\n",
    "num_to_word = {\n",
    "    0: \"eligible\",\n",
    "    1: \"rejected\"\n",
    "    \n",
    "}\n",
    "\n",
    "if new_pred_labels in num_to_word:\n",
    "    print(num_to_word[new_pred_labels])\n"
   ]
  }
 ],
 "metadata": {
  "kernelspec": {
   "display_name": "ADA",
   "language": "python",
   "name": "python3"
  },
  "language_info": {
   "codemirror_mode": {
    "name": "ipython",
    "version": 3
   },
   "file_extension": ".py",
   "mimetype": "text/x-python",
   "name": "python",
   "nbconvert_exporter": "python",
   "pygments_lexer": "ipython3",
   "version": "3.7.13"
  },
  "orig_nbformat": 4,
  "vscode": {
   "interpreter": {
    "hash": "fc48d667712369a438ca1d7aa31ee8412754a6b06b4eb9adb7fb3c9981ad12b6"
   }
  }
 },
 "nbformat": 4,
 "nbformat_minor": 2
}
