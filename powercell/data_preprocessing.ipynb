{
 "cells": [
  {
   "cell_type": "code",
   "execution_count": 113,
   "metadata": {},
   "outputs": [],
   "source": [
    "import pandas as pd\n",
    "import numpy as np\n",
    "\n",
    "message1 = pd.read_csv('data_sets/chat_messages_1.csv', low_memory= False)\n",
    "message2 = pd.read_csv('data_sets/chat_messages_2.csv', low_memory= False)\n",
    "accounts = pd.read_csv('data_sets/accounts.csv', low_memory= False)\n",
    "\n",
    "\n",
    "messages = pd.concat([message1, message2])\n",
    "messages.head()\n",
    "messages = messages[[\"account_id\", \"timestamp\", \"risk\", \"is_family_friendly\"]]\n",
    "\n",
    "friends = messages[[\"account_id\", \"timestamp\",\"is_family_friendly\"]]\n",
    "friends = friends[friends[\"is_family_friendly\"].str.contains(\"looking over at Russetstrike\") == False]\n",
    "friends = friends[friends[\"is_family_friendly\"].str.contains(\"smell my pits\") == False]\n",
    "friends = friends[friends[\"is_family_friendly\"].str.contains(\"south park\") == False]\n",
    "friends[\"is_family_friendly\"] = pd.to_numeric(friends[\"is_family_friendly\"], downcast=\"float\")\n",
    "\n",
    "#friends = friends[friends[\"is_family_friendly\"].str.contains(\"smell my pits\") == False]\n",
    "\n",
    "messages_fin = messages\n",
    "\n",
    "messages_fin = messages_fin[messages_fin[\"risk\"].str.contains(' I have no life outside of picking on people beneath me\"\"\"') == False]\n",
    "messages_fin = messages_fin[messages_fin[\"risk\"].str.contains(\"we as gay people\") == False]\n",
    "messages_fin = messages_fin[messages_fin[\"risk\"].str.contains(\"yes\") == False]\n",
    "messages_fin = messages_fin[messages_fin[\"risk\"].str.contains(\"no\") == False]\n",
    "messages_fin = messages_fin[messages_fin[\"risk\"].str.contains(\"get ready for this\") == False]\n",
    "messages_fin = messages_fin[messages_fin[\"risk\"].str.contains(\"get 15 every time in tourney\") == False]\n",
    "messages_fin = messages_fin[messages_fin[\"risk\"].str.contains('\"\"\"Hi') == False]\n",
    "messages_fin = messages_fin[messages_fin[\"risk\"].str.contains('\"search \"\"watchseries\"\" to watch any movie or show you want') == False]\n",
    "messages_fin['response'] = messages_fin['risk'].astype(float).apply(lambda x: 1 if x>=5 else 0)\n",
    "response = messages_fin[[\"account_id\", \"response\"]]\n",
    "\n",
    "inspect = messages_fin.risk.unique()\n",
    "inspect2 = messages_fin['risk'].dtype\n",
    "messages_fin[\"risk\"] = pd.to_numeric(messages_fin[\"risk\"], downcast=\"float\")\n",
    "\n",
    "#final data set\n",
    "messages_fin = messages_fin.groupby('account_id')['risk'].mean()\n",
    "messages_fin = messages_fin.to_frame()\n",
    "\n",
    "applicants = pd.merge(accounts, messages_fin, how=\"left\", on=[\"account_id\"])\n",
    "applicants = pd.merge(applicants, friends, how=\"right\", on=[\"account_id\"])\n",
    "applicants = pd.merge(applicants, response, how=\"left\", on=[\"account_id\"])\n",
    "\n",
    "applicants = applicants[[\"account_id\", \"timestamp\", \"is_family_friendly\", \"session_count\", \"level\", \"risk\", \"response\"]]\n",
    "applicants = applicants.drop_duplicates()\n",
    "applicants = applicants.dropna()\n",
    "applicants = applicants.reset_index()\n",
    "\n",
    "applicants.to_csv('data_sets/applicants.csv', encoding='utf-8')\n"
   ]
  },
  {
   "cell_type": "code",
   "execution_count": null,
   "metadata": {},
   "outputs": [],
   "source": []
  },
  {
   "cell_type": "code",
   "execution_count": null,
   "metadata": {},
   "outputs": [],
   "source": []
  },
  {
   "cell_type": "code",
   "execution_count": null,
   "metadata": {},
   "outputs": [],
   "source": []
  },
  {
   "cell_type": "code",
   "execution_count": null,
   "metadata": {},
   "outputs": [],
   "source": []
  },
  {
   "cell_type": "code",
   "execution_count": null,
   "metadata": {},
   "outputs": [],
   "source": []
  },
  {
   "cell_type": "code",
   "execution_count": null,
   "metadata": {},
   "outputs": [],
   "source": []
  },
  {
   "cell_type": "code",
   "execution_count": null,
   "metadata": {},
   "outputs": [],
   "source": []
  },
  {
   "cell_type": "code",
   "execution_count": null,
   "metadata": {},
   "outputs": [],
   "source": []
  }
 ],
 "metadata": {
  "kernelspec": {
   "display_name": "ADA",
   "language": "python",
   "name": "python3"
  },
  "language_info": {
   "codemirror_mode": {
    "name": "ipython",
    "version": 3
   },
   "file_extension": ".py",
   "mimetype": "text/x-python",
   "name": "python",
   "nbconvert_exporter": "python",
   "pygments_lexer": "ipython3",
   "version": "3.7.13"
  },
  "orig_nbformat": 4,
  "vscode": {
   "interpreter": {
    "hash": "fc48d667712369a438ca1d7aa31ee8412754a6b06b4eb9adb7fb3c9981ad12b6"
   }
  }
 },
 "nbformat": 4,
 "nbformat_minor": 2
}
